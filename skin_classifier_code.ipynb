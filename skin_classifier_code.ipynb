{
 "cells": [
  {
   "cell_type": "code",
   "execution_count": null,
   "metadata": {},
   "outputs": [],
   "source": [
    "from keras.models import Sequential\n",
    "from keras.layers import Conv2D\n",
    "from keras.layers import MaxPooling2D\n",
    "from keras.layers import Flatten\n",
    "from keras.layers import Dense\n",
    "from keras.preprocessing.image import ImageDataGenerator\n",
    "from IPython.display import display\n",
    "from PIL import Image\n",
    "import numpy as np\n",
    "from keras.preprocessing import image"
   ]
  },
  {
   "cell_type": "code",
   "execution_count": null,
   "metadata": {},
   "outputs": [],
   "source": [
    "classifier = Sequential()\n",
    "classifier.add(Conv2D(32, kernel_size=(5, 5), strides=(1, 1),\n",
    "                 activation='relu',\n",
    "                 input_shape=(224,224,3)))\n",
    "classifier.add(MaxPooling2D(pool_size = (2,2), strides=(2,2)))\n",
    "classifier.add(Conv2D(64, (5, 5), activation='relu'))\n",
    "classifier.add(MaxPooling2D(pool_size=(2, 2)))\n",
    "classifier.add(Flatten())\n",
    "classifier.add(Dense(10, activation = \"relu\"))\n",
    "classifier.add(Dense(8, activation = \"softmax\"))\n",
    "classifier.compile(optimizer = \"adam\", loss = \"binary_crossentropy\", metrics = [\"accuracy\"])"
   ]
  },
  {
   "cell_type": "code",
   "execution_count": null,
   "metadata": {},
   "outputs": [],
   "source": [
    "train_datagen = ImageDataGenerator(\n",
    "    rescale = 1./255,\n",
    "    shear_range = 0.2,\n",
    "    zoom_range = 0.2,\n",
    "    horizontal_flip = True)\n",
    "\n",
    "test_datagen = ImageDataGenerator(rescale = 1./255)\n",
    "\n",
    "valid_datagen = ImageDataGenerator(rescale = 1./255)\n",
    "\n",
    "training_set = train_datagen.flow_from_directory(\n",
    "    \"dataset\",\n",
    "    target_size = (224,224),\n",
    "    color_mode=\"rgb\",\n",
    "    batch_size = 4,\n",
    "    shuffle = True,\n",
    "    class_mode = \"categorical\")\n",
    "\n",
    "test_set = test_datagen.flow_from_directory(\n",
    "    \"testset\",\n",
    "    target_size = (224,244),\n",
    "    color_mode=\"rgb\",\n",
    "    batch_size = 4,\n",
    "    shuffle = False,\n",
    "    class_mode = \"categorical\")\n",
    "\n",
    "valid_set = valid_datagen.flow_from_directory(\n",
    "    \"validset\",\n",
    "    target_size = (224,224),\n",
    "    color_mode=\"rgb\",\n",
    "    batch_size = 4,\n",
    "    shuffle = True,\n",
    "    class_mode = \"categorical\")"
   ]
  },
  {
   "cell_type": "code",
   "execution_count": null,
   "metadata": {
    "scrolled": true
   },
   "outputs": [],
   "source": [
    "classifier.fit_generator(\n",
    "    generator=training_set,\n",
    "    steps_per_epoch = 800,\n",
    "    epochs = 10,\n",
    "    validation_data = valid_set,\n",
    "    validation_steps = 800)\n",
    "classifier.save(\"skin_classifier.h5\")"
   ]
  },
  {
   "cell_type": "code",
   "execution_count": null,
   "metadata": {},
   "outputs": [],
   "source": [
    "from tensorflow.python.client import device_lib\n",
    "print(device_lib.list_local_devices())"
   ]
  },
  {
   "cell_type": "code",
   "execution_count": null,
   "metadata": {},
   "outputs": [],
   "source": [
    "test_image = image.load_img(\"ISIC_0024450.jpg\", target_size = (224,224))\n",
    "test_image = image.img_to_array(test_image)\n",
    "test_image = np.expand_dims(test_image, axis = 0)\n",
    "result = classifier.predict(test_image)\n",
    "training_set.class_indices\n",
    "decision = np.argmax(result)\n",
    "print(decision)\n",
    "print(result)"
   ]
  },
  {
   "cell_type": "code",
   "execution_count": null,
   "metadata": {},
   "outputs": [],
   "source": [
    "import tensorflow as tf\n",
    "import numpy as np\n",
    "from tensorflow import keras\n",
    "from tensorflow.contrib import lite\n",
    "\n",
    "converter = lite.TocoConverter.from_keras_model_file(\"skin_classifier.h5\");\n",
    "tflite_model = converter.convert()\n",
    "open(\"linear.tflite\",\"wb\").write(tflite_model)"
   ]
  },
  {
   "cell_type": "code",
   "execution_count": null,
   "metadata": {},
   "outputs": [],
   "source": []
  }
 ],
 "metadata": {
  "kernelspec": {
   "display_name": "Python 3",
   "language": "python",
   "name": "python3"
  },
  "language_info": {
   "codemirror_mode": {
    "name": "ipython",
    "version": 3
   },
   "file_extension": ".py",
   "mimetype": "text/x-python",
   "name": "python",
   "nbconvert_exporter": "python",
   "pygments_lexer": "ipython3",
   "version": "3.7.1"
  }
 },
 "nbformat": 4,
 "nbformat_minor": 2
}
