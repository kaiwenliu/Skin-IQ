{
 "cells": [
  {
   "cell_type": "code",
   "execution_count": 14,
   "metadata": {},
   "outputs": [],
   "source": [
    "from keras.models import Sequential\n",
    "from keras.layers import Conv2D\n",
    "from keras.layers import MaxPooling2D\n",
    "from keras.layers import Flatten\n",
    "from keras.layers import Dense\n",
    "from keras.preprocessing.image import ImageDataGenerator\n",
    "from IPython.display import display\n",
    "from PIL import Image\n",
    "import numpy as np\n",
    "from keras.preprocessing import image"
   ]
  },
  {
   "cell_type": "code",
   "execution_count": 15,
   "metadata": {},
   "outputs": [],
   "source": [
    "classifier = Sequential()\n",
    "classifier.add(Conv2D(32, kernel_size=(5, 5), strides=(1, 1),\n",
    "                 activation='relu',\n",
    "                 input_shape=(224,224,3)))\n",
    "classifier.add(MaxPooling2D(pool_size = (2,2), strides=(2,2)))\n",
    "classifier.add(Conv2D(64, (5, 5), activation='relu'))\n",
    "classifier.add(MaxPooling2D(pool_size=(2, 2)))\n",
    "classifier.add(Flatten())\n",
    "classifier.add(Dense(10, activation = \"relu\"))\n",
    "classifier.add(Dense(8, activation = \"softmax\"))\n",
    "classifier.compile(optimizer = \"adam\", loss = \"binary_crossentropy\", metrics = [\"accuracy\"])"
   ]
  },
  {
   "cell_type": "code",
   "execution_count": 16,
   "metadata": {},
   "outputs": [
    {
     "name": "stdout",
     "output_type": "stream",
    }
   ],
   "source": [
    "train_datagen = ImageDataGenerator(\n",
    "    rescale = 1./255,\n",
    "    shear_range = 0.2,\n",
    "    zoom_range = 0.2,\n",
    "    horizontal_flip = True)\n",
    "\n",
    "test_datagen = ImageDataGenerator(rescale = 1./255)\n",
    "\n",
    "valid_datagen = ImageDataGenerator(rescale = 1./255)\n",
    "\n",
    "training_set = train_datagen.flow_from_directory(\n",
    "    \"dataset\",\n",
    "    target_size = (224,224),\n",
    "    color_mode=\"rgb\",\n",
    "    batch_size = 4,\n",
    "    shuffle = True,\n",
    "    class_mode = \"categorical\")\n",
    "\n",
    "test_set = test_datagen.flow_from_directory(\n",
    "    \"testset\",\n",
    "    target_size = (224,244),\n",
    "    color_mode=\"rgb\",\n",
    "    batch_size = 4,\n",
    "    shuffle = False,\n",
    "    class_mode = \"categorical\")\n",
    "\n",
    "valid_set = valid_datagen.flow_from_directory(\n",
    "    \"validset\",\n",
    "    target_size = (224,224),\n",
    "    color_mode=\"rgb\",\n",
    "    batch_size = 4,\n",
    "    shuffle = True,\n",
    "    class_mode = \"categorical\")"
   ]
  },
  {
   "cell_type": "code",
   "execution_count": 17,
   "metadata": {
    "scrolled": true
   },
   "outputs": [
    {
     "name": "stdout",
     "output_type": "stream",
     "text": [
      "Epoch 1/10\n",
      "800/800 [==============================] - 350s 438ms/step - loss: 0.3609 - acc: 0.8785 - val_loss: 0.3502 - val_acc: 0.8793\n",
      "Epoch 2/10\n",
      "800/800 [==============================] - 344s 430ms/step - loss: 0.3415 - acc: 0.8817 - val_loss: 0.3289 - val_acc: 0.8821\n",
      "Epoch 3/10\n",
      "800/800 [==============================] - 342s 427ms/step - loss: 0.3254 - acc: 0.8862 - val_loss: 0.3919 - val_acc: 0.8805\n",
      "Epoch 4/10\n",
      "800/800 [==============================] - 340s 425ms/step - loss: 0.3153 - acc: 0.8890 - val_loss: 0.2861 - val_acc: 0.8933\n",
      "Epoch 5/10\n",
      "800/800 [==============================] - 341s 426ms/step - loss: 0.2677 - acc: 0.8981 - val_loss: 0.2608 - val_acc: 0.9004\n",
      "Epoch 6/10\n",
      "800/800 [==============================] - 340s 425ms/step - loss: 0.2313 - acc: 0.9086 - val_loss: 0.1800 - val_acc: 0.9270\n",
      "Epoch 7/10\n",
      "800/800 [==============================] - 341s 426ms/step - loss: 0.2061 - acc: 0.9188 - val_loss: 0.1742 - val_acc: 0.9313\n",
      "Epoch 8/10\n",
      "800/800 [==============================] - 341s 426ms/step - loss: 0.1789 - acc: 0.9314 - val_loss: 0.1482 - val_acc: 0.9397\n",
      "Epoch 9/10\n",
      "800/800 [==============================] - 338s 423ms/step - loss: 0.1618 - acc: 0.9380 - val_loss: 0.1190 - val_acc: 0.9570\n",
      "Epoch 10/10\n",
      "800/800 [==============================] - 340s 425ms/step - loss: 0.1487 - acc: 0.9439 - val_loss: 0.0971 - val_acc: 0.9636\n"
     ]
    }
   ],
   "source": [
    "classifier.fit_generator(\n",
    "    generator=training_set,\n",
    "    steps_per_epoch = 800,\n",
    "    epochs = 10,\n",
    "    validation_data = valid_set,\n",
    "    validation_steps = 800)\n",
    "classifier.save(\"skin_classifier.h5\")"
   ]
  },
  {
   "cell_type": "code",
   "execution_count": 34,
   "metadata": {},
   "outputs": [
    {
     "name": "stdout",
     "output_type": "stream",
     "text": [
      "[name: \"/device:CPU:0\"\n",
      "device_type: \"CPU\"\n",
      "memory_limit: 268435456\n",
      "locality {\n",
      "}\n",
      "incarnation: 13153113382385905341\n",
      ", name: \"/device:GPU:0\"\n",
      "device_type: \"GPU\"\n",
      "memory_limit: 4943878553\n",
      "locality {\n",
      "  bus_id: 1\n",
      "  links {\n",
      "  }\n",
      "}\n",
      "incarnation: 15963144699186450584\n",
      "physical_device_desc: \"device: 0, name: GeForce GTX 1060 6GB, pci bus id: 0000:01:00.0, compute capability: 6.1\"\n",
      "]\n"
     ]
    }
   ],
   "source": [
    "from tensorflow.python.client import device_lib\n",
    "print(device_lib.list_local_devices())"
   ]
  },
  {
   "cell_type": "code",
   "execution_count": 38,
   "metadata": {},
   "outputs": [
    {
     "name": "stdout",
     "output_type": "stream",
     "text": [
      "0\n",
      "[[1. 0. 0. 0. 0. 0. 0. 0.]]\n"
     ]
    }
   ],
   "source": [
    "test_image = image.load_img(\"ISIC_0024450.jpg\", target_size = (224,224))\n",
    "test_image = image.img_to_array(test_image)\n",
    "test_image = np.expand_dims(test_image, axis = 0)\n",
    "result = classifier.predict(test_image)\n",
    "training_set.class_indices\n",
    "decision = np.argmax(result)\n",
    "print(decision)\n",
    "print(result)"
   ]
  },
  {
   "cell_type": "code",
   "execution_count": null,
   "metadata": {},
   "outputs": [],
   "source": []
  }
 ],
 "metadata": {
  "kernelspec": {
   "display_name": "Python 3",
   "language": "python",
   "name": "python3"
  },
  "language_info": {
   "codemirror_mode": {
    "name": "ipython",
    "version": 3
   },
   "file_extension": ".py",
   "mimetype": "text/x-python",
   "name": "python",
   "nbconvert_exporter": "python",
   "pygments_lexer": "ipython3",
   "version": "3.7.1"
  }
 },
 "nbformat": 4,
 "nbformat_minor": 2
}
